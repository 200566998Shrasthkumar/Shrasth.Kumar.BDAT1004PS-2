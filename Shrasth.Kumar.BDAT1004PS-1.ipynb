{
 "cells": [
  {
   "cell_type": "markdown",
   "id": "70b2abcf",
   "metadata": {},
   "source": [
    "# Problem Set 2"
   ]
  },
  {
   "cell_type": "markdown",
   "id": "381a3239",
   "metadata": {},
   "source": [
    "### Question 1"
   ]
  },
  {
   "cell_type": "markdown",
   "id": "e6967258",
   "metadata": {},
   "source": [
    "**Consider the following Python module**:\n",
    "a = 0\n",
    "def b():\n",
    "global a\n",
    "a = c(a)\n",
    "def c(a):\n",
    "return a + 2\n",
    "After importing the module into the interpreter, you execute:\n",
    "- b()\n",
    "- b()\n",
    "- b()\n",
    "-  a\n",
    "?\n",
    "What value is displayed when the last expression (a) is evaluated? Explain your answer by indicating what happens in every executed statement."
   ]
  },
  {
   "cell_type": "code",
   "execution_count": 4,
   "id": "f0abaa9d",
   "metadata": {},
   "outputs": [
    {
     "data": {
      "text/plain": [
       "6"
      ]
     },
     "execution_count": 4,
     "metadata": {},
     "output_type": "execute_result"
    }
   ],
   "source": [
    "##Answer 1:\n",
    "a = 0\n",
    "\n",
    "def b():\n",
    "    global a\n",
    "    a = c(a)\n",
    "    \n",
    "def c(a):\n",
    "    return a + 2\n",
    "\n",
    "b()\n",
    "b()\n",
    "b()\n",
    "a"
   ]
  },
  {
   "cell_type": "markdown",
   "id": "bf98735a",
   "metadata": {},
   "source": [
    "### Question 2"
   ]
  },
  {
   "cell_type": "markdown",
   "id": "c63b0ede",
   "metadata": {},
   "source": [
    "**Function fileLength(), given to you, takes the name of a file as input and returns the length of the file**:\n",
    "\n",
    "- fileLength('midterm.py') \n",
    "284 \n",
    "- fileLength('idterm.py') \n",
    "Traceback (most recent call last): \n",
    "    File \"<pyshell#34>\", line 1, in <module>\n",
    "        fileLength('idterm.py') \n",
    "    File \"/Users/me/midterm.py\", line 3, in fileLength \n",
    "        infile = open(filename) \n",
    "    FileNotFoundError: [Errno 2] No such file or directory: 'idterm.py'\n",
    "    \n",
    "As shown above, if the file cannot be found by the interpreter or if it cannot be read as a text file, an exception will be raised. Modify function fileLength() so that a friendly message is printed instead: \n",
    "\n",
    "- fileLength('midterm.py')\n",
    "358 \n",
    "- fileLength('idterm.py') \n",
    "File idterm.py not found."
   ]
  },
  {
   "cell_type": "code",
   "execution_count": 3,
   "id": "d6f42c9f",
   "metadata": {},
   "outputs": [
    {
     "name": "stdout",
     "output_type": "stream",
     "text": [
      "123\n",
      "File idterm.py not found.\n"
     ]
    }
   ],
   "source": [
    "def fileLength(filename):\n",
    "    try:\n",
    "        with open(filename, 'r') as file:\n",
    "            contents = file.read()\n",
    "            print(len(contents))\n",
    "    except FileNotFoundError:\n",
    "        print(f\"File {filename} not found.\")\n",
    "\n",
    "\n",
    "fileLength(r\"D:\\Shrasth\\Data_Programming\\Filelength.txt\")\n",
    "fileLength('idterm.py')\n"
   ]
  },
  {
   "cell_type": "markdown",
   "id": "780d0042",
   "metadata": {},
   "source": [
    "### Question 3"
   ]
  },
  {
   "cell_type": "markdown",
   "id": "dd0f8e9c",
   "metadata": {},
   "source": [
    "**Write a class named Marsupial that can be used as shown below**: \n",
    "\n",
    "- m = Marsupial() \n",
    "- m.put_in_pouch('doll') \n",
    "- m.put_in_pouch('firetruck') \n",
    "- m.put_in_pouch('kitten') \n",
    "- m.pouch_contents() \n",
    "\n",
    "['doll', 'firetruck', 'kitten']\n",
    "\n",
    "Now write a class named **Kangaroo** as a subclass of **Marsupial** that inherits all the attributes of **Marsupial** and also:\n",
    "\n",
    "    a. extends the Marsupial __init__ constructor to take, as input, the coordinates x and y of the Kangaroo object,\n",
    "    b. supports method jump that takes number values dx and dy as input and moves the kangaroo by dx units along the x-axis and by dy units along the y-axis, and\n",
    "    c. overloads the __str__ operator so it behaves as shown below.\n",
    "   \n",
    "- k = Kangaroo(0,0) \n",
    "- print(k) \n",
    "\n",
    "I am a Kangaroo located at coordinates (0,0) \n",
    "- k.put_in_pouch('doll') \n",
    "- k.put_in_pouch('firetruck') \n",
    "- k.put_in_pouch('kitten') \n",
    "- k.pouch_contents() \n",
    "\n",
    "['doll', 'firetruck', 'kitten']\n",
    "\n",
    "- k.jump(1,0) \n",
    "- k.jump(1,0) \n",
    "- k.jump(1,0) \n",
    "- print(k) \n",
    "\n",
    "I am a Kangaroo located at coordinates (3,0)\n",
    "\n"
   ]
  },
  {
   "cell_type": "code",
   "execution_count": 11,
   "id": "5aed2c4c",
   "metadata": {},
   "outputs": [
    {
     "name": "stdout",
     "output_type": "stream",
     "text": [
      "The pouch contents are: ['doll', 'firetruck', 'kitten']\n",
      "I am a Kangaroo located at coordinates (0,0)\n",
      "['doll', 'firetruck', 'kitten']\n",
      "I am a Kangaroo located at coordinates (3,0)\n"
     ]
    }
   ],
   "source": [
    "class Marsupial:\n",
    "    def __init__(self):\n",
    "        self.pouch = []\n",
    "\n",
    "    def put_in_pouch(self, item):\n",
    "        self.pouch.append(item)\n",
    "\n",
    "    def pouch_contents(self):\n",
    "        return self.pouch\n",
    "\n",
    "class Kangaroo(Marsupial):\n",
    "    def __init__(self, x, y):\n",
    "        Marsupial.__init__(self) # Calling the parent class constructor directly  \n",
    "        self.x = x\n",
    "        self.y = y\n",
    "\n",
    "    def jump(self, dx, dy):\n",
    "        self.x += dx\n",
    "        self.y += dy\n",
    "\n",
    "    def __str__(self):\n",
    "        return f\"I am a Kangaroo located at coordinates ({self.x},{self.y})\"\n",
    "\n",
    "# Test the classes\n",
    "m = Marsupial()\n",
    "m.put_in_pouch('doll')\n",
    "m.put_in_pouch('firetruck')\n",
    "m.put_in_pouch('kitten')\n",
    "print(\"The pouch contents are:\",m.pouch_contents())\n",
    "\n",
    "k = Kangaroo(0, 0)\n",
    "print(k)\n",
    "k.put_in_pouch('doll')\n",
    "k.put_in_pouch('firetruck')\n",
    "k.put_in_pouch('kitten')\n",
    "print(k.pouch_contents())\n",
    "k.jump(1, 0)\n",
    "k.jump(1, 0)\n",
    "k.jump(1, 0)\n",
    "print(k)"
   ]
  },
  {
   "cell_type": "markdown",
   "id": "314573dd",
   "metadata": {},
   "source": [
    "### Question 4"
   ]
  },
  {
   "cell_type": "markdown",
   "id": "65f465f9",
   "metadata": {},
   "source": [
    "**Write function collatz() that takes a positive integer x as input and prints the Collatz sequence starting at x. A Collatz sequence is obtained by repeatedly applying this rule to the previous number x in the sequence**:\n",
    "           \n",
    "           x = { 𝑥/2     𝑖𝑓 𝑥 𝑖𝑠 𝑒𝑣𝑒𝑛\n",
    "                 3𝑥+1    𝑖𝑓 𝑥 𝑖𝑠 𝑜𝑑𝑑\n",
    "            \n",
    "            \n",
    "Your function should stop when the sequence gets to number 1. Your implementation must be recursive, without any loops.\n",
    "\n",
    "- collatz(1)\n",
    "\n",
    "1\n",
    "\n",
    "- collatz(10)\n",
    "\n",
    "10\n",
    "\n",
    "5\n",
    "\n",
    "16\n",
    "\n",
    "8\n",
    "\n",
    "4\n",
    "\n",
    "2\n",
    "\n",
    "1"
   ]
  },
  {
   "cell_type": "code",
   "execution_count": 16,
   "id": "2fa47f30",
   "metadata": {},
   "outputs": [
    {
     "name": "stdout",
     "output_type": "stream",
     "text": [
      "1\n",
      "\t\n",
      "10\n",
      "5\n",
      "16\n",
      "8\n",
      "4\n",
      "2\n",
      "1\n"
     ]
    }
   ],
   "source": [
    "def collatz(x):\n",
    "    print(x)\n",
    "    if x == 1:\n",
    "        return\n",
    "    elif x % 2 == 0:\n",
    "        collatz(x // 2)\n",
    "    else:\n",
    "        collatz(3 * x + 1)\n",
    "\n",
    "# Test the function\n",
    "collatz(1)\n",
    "print(\"\\t\")\n",
    "collatz(10)"
   ]
  },
  {
   "cell_type": "markdown",
   "id": "359ff8e7",
   "metadata": {},
   "source": [
    "### Question 5"
   ]
  },
  {
   "cell_type": "markdown",
   "id": "c60f4df8",
   "metadata": {},
   "source": [
    "**Write a recursive method binary() that takes a non-negative integer n and prints the binary representation of integer n**. \n",
    "\n",
    "- binary(0) 0 \n",
    "- binary(1) 1 \n",
    "- binary(3) 11 \n",
    "- binary(9) 1001"
   ]
  },
  {
   "cell_type": "code",
   "execution_count": 17,
   "id": "cb04260e",
   "metadata": {},
   "outputs": [
    {
     "name": "stdout",
     "output_type": "stream",
     "text": [
      "Enter a non-negative integer: 9\n",
      "Binary representation of 9: 1001\n"
     ]
    }
   ],
   "source": [
    "def binary(n):\n",
    "    if n > 1:\n",
    "        binary(n // 2)\n",
    "    print(n % 2, end='')\n",
    "\n",
    "n = int(input(\"Enter a non-negative integer: \"))\n",
    "if n < 0:\n",
    "    print(\"Please enter a non-negative integer.\")\n",
    "else:\n",
    "    print(f\"Binary representation of {n}: \", end='')\n",
    "    binary(n)\n",
    "    print()"
   ]
  },
  {
   "cell_type": "markdown",
   "id": "51789253",
   "metadata": {},
   "source": [
    "### Question 8"
   ]
  },
  {
   "cell_type": "markdown",
   "id": "7ff98718",
   "metadata": {},
   "source": [
    "**Write SQL queries on the below database table that return**:\n",
    "\n",
    "    a) All the temperature data.\n",
    "    b) All the cities, but without repetition.\n",
    "    c) All the records for India.\n",
    "    d) All the Fall records\n",
    "    e) The city, country, and season for which the average rainfall is between 200 and 400 millimeters.\n",
    "    f) The city and country for which the average Fall temperature is above 20 degrees, in increasing temperature order.\n",
    "    g) The total annual rainfall for Cairo.\n",
    "    h) The total rainfall for each season."
   ]
  },
  {
   "cell_type": "code",
   "execution_count": 107,
   "id": "423e1282",
   "metadata": {},
   "outputs": [],
   "source": [
    "import sqlite3\n",
    "database_connection = sqlite3.connect('Weather.db') ##Creating a new database"
   ]
  },
  {
   "cell_type": "code",
   "execution_count": 108,
   "id": "063760f4",
   "metadata": {},
   "outputs": [],
   "source": [
    "cursor = database_connection.cursor()\n",
    "cursor.execute('''\n",
    "    CREATE TABLE if not exists weather (\n",
    "        City text,\n",
    "        Country text,\n",
    "        Season text,\n",
    "        Temperature real,\n",
    "        Rainfall real\n",
    "    )\n",
    "''')\n",
    "# Inserting data into the table\n",
    "data = [\n",
    "    ('Mumbai', 'India', 'Winter', 24.8, 5.9),\n",
    "    ('Mumbai', 'India', 'Spring', 28.4, 16.2),\n",
    "    ('Mumbai', 'India', 'Summer', 27.9, 1549.4),\n",
    "    ('Mumbai', 'India', 'Fall', 27.6, 346.0),\n",
    "    ('London', 'United Kingdom', 'Winter', 4.2, 207.7),\n",
    "    ('London', 'United Kingdom', 'Spring', 8.3, 169.6),\n",
    "    ('London', 'United Kingdom', 'Summer', 15.7, 157.0),\n",
    "    ('London', 'United Kingdom', 'Fall', 10.4, 218.5),\n",
    "    ('Cairo', 'Egypt', 'Winter', 13.6, 16.5),\n",
    "    ('Cairo', 'Egypt', 'Spring', 20.7, 6.5),\n",
    "    ('Cairo', 'Egypt', 'Summer', 27.7, 0.1),\n",
    "    ('Cairo', 'Egypt', 'Fall', 22.2, 4.5)\n",
    "]\n",
    "\n",
    "cursor.executemany('''\n",
    "    INSERT INTO weather (City, Country, Season, Temperature, Rainfall)\n",
    "    VALUES (?, ?, ?, ?, ?)\n",
    "''', data)\n",
    "\n",
    "# Commiting the changes\n",
    "database_connection.commit()\n"
   ]
  },
  {
   "cell_type": "code",
   "execution_count": 109,
   "id": "72613c43",
   "metadata": {},
   "outputs": [
    {
     "data": {
      "text/plain": [
       "[(24.8,),\n",
       " (28.4,),\n",
       " (27.9,),\n",
       " (27.6,),\n",
       " (4.2,),\n",
       " (8.3,),\n",
       " (15.7,),\n",
       " (10.4,),\n",
       " (13.6,),\n",
       " (20.7,),\n",
       " (27.7,),\n",
       " (22.2,)]"
      ]
     },
     "execution_count": 109,
     "metadata": {},
     "output_type": "execute_result"
    }
   ],
   "source": [
    "#: a) All the temperature data.\n",
    "\n",
    "cursor.execute('SELECT Temperature FROM weather')\n",
    "cursor.fetchall()"
   ]
  },
  {
   "cell_type": "code",
   "execution_count": 112,
   "id": "2d9325c0",
   "metadata": {},
   "outputs": [
    {
     "data": {
      "text/plain": [
       "[('Mumbai',), ('London',), ('Cairo',)]"
      ]
     },
     "execution_count": 112,
     "metadata": {},
     "output_type": "execute_result"
    }
   ],
   "source": [
    "# b) All the cities, but without repetition.\n",
    "\n",
    "cursor.execute('SELECT DISTINCT City FROM weather')\n",
    "cursor.fetchall()"
   ]
  },
  {
   "cell_type": "code",
   "execution_count": 113,
   "id": "fe4ddc64",
   "metadata": {},
   "outputs": [
    {
     "data": {
      "text/plain": [
       "[('Mumbai', 'India', 'Winter', 24.8, 5.9),\n",
       " ('Mumbai', 'India', 'Spring', 28.4, 16.2),\n",
       " ('Mumbai', 'India', 'Summer', 27.9, 1549.4),\n",
       " ('Mumbai', 'India', 'Fall', 27.6, 346.0)]"
      ]
     },
     "execution_count": 113,
     "metadata": {},
     "output_type": "execute_result"
    }
   ],
   "source": [
    "# c) All the records for India.\n",
    "\n",
    "cursor.execute('SELECT * FROM weather WHERE Country = \"India\"')\n",
    "cursor.fetchall()"
   ]
  },
  {
   "cell_type": "code",
   "execution_count": 114,
   "id": "d6513d5b",
   "metadata": {},
   "outputs": [
    {
     "data": {
      "text/plain": [
       "[('Mumbai', 'India', 'Fall', 27.6, 346.0),\n",
       " ('London', 'United Kingdom', 'Fall', 10.4, 218.5),\n",
       " ('Cairo', 'Egypt', 'Fall', 22.2, 4.5)]"
      ]
     },
     "execution_count": 114,
     "metadata": {},
     "output_type": "execute_result"
    }
   ],
   "source": [
    "# d) All the Fall records\n",
    "cursor.execute('SELECT * FROM weather Where Season = \"Fall\"')\n",
    "cursor.fetchall()"
   ]
  },
  {
   "cell_type": "code",
   "execution_count": 115,
   "id": "a192933e",
   "metadata": {},
   "outputs": [
    {
     "data": {
      "text/plain": [
       "[('London', 'United Kingdom', 'Fall'),\n",
       " ('London', 'United Kingdom', 'Winter'),\n",
       " ('Mumbai', 'India', 'Fall')]"
      ]
     },
     "execution_count": 115,
     "metadata": {},
     "output_type": "execute_result"
    }
   ],
   "source": [
    "# e) The city, country, and season for which the average rainfall is between 200 and 400 millimeters.\n",
    "\n",
    "cursor.execute('SELECT City,Country,Season FROM weather GROUP BY City,Country,Season HAVING AVG(Rainfall) BETWEEN 200 AND 400')\n",
    "cursor.fetchall()"
   ]
  },
  {
   "cell_type": "code",
   "execution_count": 116,
   "id": "1d11e775",
   "metadata": {},
   "outputs": [
    {
     "data": {
      "text/plain": [
       "[('Cairo', 'Egypt'), ('Mumbai', 'India')]"
      ]
     },
     "execution_count": 116,
     "metadata": {},
     "output_type": "execute_result"
    }
   ],
   "source": [
    "# f) The city and country for which the average Fall temperature is above 20 degrees, in increasing temperature order.\n",
    "\n",
    "cursor.execute('SELECT City,Country FROM weather WHERE Season = \"Fall\" GROUP BY City, Country HAVING AVG(Temperature) > 20 ORDER BY AVG(Temperature) ASC')\n",
    "cursor.fetchall()"
   ]
  },
  {
   "cell_type": "code",
   "execution_count": 117,
   "id": "b4c9a3ba",
   "metadata": {},
   "outputs": [
    {
     "data": {
      "text/plain": [
       "[(27.6,)]"
      ]
     },
     "execution_count": 117,
     "metadata": {},
     "output_type": "execute_result"
    }
   ],
   "source": [
    "# g) The total annual rainfall for Cairo.\n",
    "\n",
    "cursor.execute('SELECT sum(Rainfall) FROM weather Where City = \"Cairo\"')\n",
    "cursor.fetchall()"
   ]
  },
  {
   "cell_type": "code",
   "execution_count": 118,
   "id": "ee23cf34",
   "metadata": {},
   "outputs": [
    {
     "name": "stdout",
     "output_type": "stream",
     "text": [
      "[('Fall', 569.0), ('Spring', 192.3), ('Summer', 1706.5), ('Winter', 230.1)]\n"
     ]
    }
   ],
   "source": [
    "# h) The total rainfall for each season.\n",
    "\n",
    "cursor.execute('SELECT Season,sum(Rainfall) FROM weather GROUP BY Season')\n",
    "results = cursor.fetchall()\n",
    "formatted_results = [(season, round(rainfall, 1)) for season, rainfall in results]\n",
    "print(formatted_results)"
   ]
  },
  {
   "cell_type": "code",
   "execution_count": 119,
   "id": "3745d534",
   "metadata": {},
   "outputs": [],
   "source": [
    "#Closing the database after finishing the queries\n",
    "database_connection.close()"
   ]
  },
  {
   "cell_type": "markdown",
   "id": "cf9e1670",
   "metadata": {},
   "source": [
    "### Question 9"
   ]
  },
  {
   "cell_type": "markdown",
   "id": "c8e9cf18",
   "metadata": {},
   "source": [
    "**Suppose list words is defined as follows**:\n",
    "\n",
    "- words = ['The', 'quick', 'brown', 'fox', 'jumps', 'over', 'the', 'lazy', 'dog']\n",
    "Write list comprehension expressions that use list words and generate the following lists:\n",
    "\n",
    "    a) ['THE', 'QUICK', 'BROWN', 'FOX', 'JUMPS', 'OVER', 'THE', 'LAZY', 'DOG']\n",
    "\n",
    "    b) ['the', 'quick', 'brown', 'fox', 'jumps', 'over', 'the', 'lazy', 'dog']\n",
    "\n",
    "    c) [3, 5, 5, 3, 5, 4, 3, 4, 3] (the list of lengths of words in list words).\n",
    "\n",
    "    d) [['THE', 'the', 3], ['QUICK', 'quick', 5], ['BROWN', 'brown', 5], ['FOX', 'fox', 3], ['JUMPS', 'jumps', 5], ['OVER', 'over', 4], ['THE', 'the', 3], ['LAZY', 'lazy', 4], ['DOG', 'dog', 3]] (the list containing a list for every word of list words, where each list contains the word in uppercase and lowercase and the length of the word.)\n",
    "\n",
    "    e) ['The', 'quick', 'brown', 'fox', 'jumps', 'over', 'the', 'lazy', 'dog'] (the list of words in list words containing 4 or more characters.)"
   ]
  },
  {
   "cell_type": "code",
   "execution_count": 26,
   "id": "af88142b",
   "metadata": {},
   "outputs": [
    {
     "name": "stdout",
     "output_type": "stream",
     "text": [
      "List with uppercase version: ['THE', 'QUICK', 'BROWN', 'FOX', 'JUMPS', 'OVER', 'THE', 'LAZY', 'DOG']\n",
      "\t\n",
      "List with lowercase version: ['the', 'quick', 'brown', 'fox', 'jumps', 'over', 'the', 'lazy', 'dog']\n",
      "\t\n",
      "The word length is: [3, 5, 5, 3, 5, 4, 3, 4, 3]\n",
      "\t\n",
      "The word details are: [['THE', 'the', 3], ['QUICK', 'quick', 5], ['BROWN', 'brown', 5], ['FOX', 'fox', 3], ['JUMPS', 'jumps', 5], ['OVER', 'over', 4], ['THE', 'the', 3], ['LAZY', 'lazy', 4], ['DOG', 'dog', 3]]\n",
      "\t\n",
      "The word containing 4 or more characters are: ['quick', 'brown', 'jumps', 'over', 'lazy']\n"
     ]
    }
   ],
   "source": [
    "words = ['The', 'quick', 'brown', 'fox', 'jumps', 'over', 'the', 'lazy', 'dog']\n",
    "\n",
    "\n",
    "# A) Uppercase\n",
    "uppercase = [word.upper() for word in words]\n",
    "print(f\"List with uppercase version: {uppercase}\")\n",
    "print(\"\\t\")\n",
    "\n",
    "# B) Lowercase\n",
    "\n",
    "lowercase = [word.lower() for word in words]\n",
    "print(f\"List with lowercase version: {lowercase}\")\n",
    "print(\"\\t\")\n",
    "\n",
    "# C) Length of words\n",
    "\n",
    "length_of_words = [len(word) for word in words]\n",
    "print(f\"The word length is: {length_of_words}\")\n",
    "print(\"\\t\")\n",
    "\n",
    "# D) List containing every word upper,lower cases and length\n",
    "\n",
    "word_details = [[word.upper(), word.lower(), len(word)] for word in words]\n",
    "print(f\"The word details are: {word_details}\")\n",
    "print(\"\\t\")\n",
    "\n",
    "# E) Words containing 4 or more character\n",
    "\n",
    "word_char = [word for word in words if len(word)>=4]\n",
    "print(f\"The word containing 4 or more characters are: {word_char}\")"
   ]
  }
 ],
 "metadata": {
  "kernelspec": {
   "display_name": "Python 3 (ipykernel)",
   "language": "python",
   "name": "python3"
  },
  "language_info": {
   "codemirror_mode": {
    "name": "ipython",
    "version": 3
   },
   "file_extension": ".py",
   "mimetype": "text/x-python",
   "name": "python",
   "nbconvert_exporter": "python",
   "pygments_lexer": "ipython3",
   "version": "3.11.5"
  }
 },
 "nbformat": 4,
 "nbformat_minor": 5
}
